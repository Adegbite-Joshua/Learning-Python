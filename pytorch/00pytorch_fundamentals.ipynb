{
  "nbformat": 4,
  "nbformat_minor": 0,
  "metadata": {
    "colab": {
      "provenance": []
    },
    "kernelspec": {
      "name": "python3",
      "display_name": "Python 3"
    },
    "language_info": {
      "name": "python"
    }
  },
  "cells": [
    {
      "cell_type": "markdown",
      "source": [],
      "metadata": {
        "id": "Mu7EpiMDEBOM"
      }
    },
    {
      "cell_type": "markdown",
      "source": [],
      "metadata": {
        "id": "c3G6dbAaESIM"
      }
    },
    {
      "cell_type": "code",
      "source": [
        "import torch\n",
        "\n",
        "#Scalar\n",
        "tensor = torch.tensor(7)\n",
        "#tensor\n",
        "\n",
        "tensor.ndim\n",
        "tensor.item()"
      ],
      "metadata": {
        "id": "eroy7HquETmW",
        "colab": {
          "base_uri": "https://localhost:8080/"
        },
        "outputId": "6e6e14da-3d89-402d-aa9b-b609b0cf5109"
      },
      "execution_count": null,
      "outputs": [
        {
          "output_type": "execute_result",
          "data": {
            "text/plain": [
              "7"
            ]
          },
          "metadata": {},
          "execution_count": 1
        }
      ]
    },
    {
      "cell_type": "code",
      "source": [
        "#VectorS\n",
        "vector = torch.tensor([7,7])\n",
        "vector\n",
        "#vector.size()\n",
        "# vector.shape\n",
        "vector.ndim"
      ],
      "metadata": {
        "colab": {
          "base_uri": "https://localhost:8080/"
        },
        "id": "HDycw1qStLud",
        "outputId": "787fdb65-cd7c-4729-db94-6685a12d6a64"
      },
      "execution_count": null,
      "outputs": [
        {
          "output_type": "execute_result",
          "data": {
            "text/plain": [
              "1"
            ]
          },
          "metadata": {},
          "execution_count": 2
        }
      ]
    },
    {
      "cell_type": "code",
      "source": [
        "# MATRIXES\n",
        "\n",
        "MATRIX = torch.tensor([[1,2],\n",
        "                 [3,4]])\n",
        "# MATRIX\n",
        "# MATRIX[0]\n",
        "MATRIX.ndim\n",
        "MATRIX.shape\n",
        "MATRIX.size()"
      ],
      "metadata": {
        "colab": {
          "base_uri": "https://localhost:8080/"
        },
        "id": "w_Y-nOT4vVpN",
        "outputId": "67e5c219-2a99-464c-9143-e175a72e0cf2"
      },
      "execution_count": null,
      "outputs": [
        {
          "output_type": "execute_result",
          "data": {
            "text/plain": [
              "torch.Size([2, 2])"
            ]
          },
          "metadata": {},
          "execution_count": 3
        }
      ]
    },
    {
      "cell_type": "code",
      "source": [
        "# TENSORS\n",
        "\n",
        "TENSOR = torch.tensor([[[1,2,3],\n",
        "                        [4,5,6],\n",
        "                        [7,8,9]]])\n",
        "# TENSOR\n",
        "TENSOR.ndim\n",
        "# TENSOR.shape,TENSOR[0, 2, 2],TENSOR[0, 1, 1]"
      ],
      "metadata": {
        "colab": {
          "base_uri": "https://localhost:8080/"
        },
        "id": "zML1VcBagRSw",
        "outputId": "2e731698-105c-4241-a182-773a98b8742b"
      },
      "execution_count": null,
      "outputs": [
        {
          "output_type": "execute_result",
          "data": {
            "text/plain": [
              "3"
            ]
          },
          "metadata": {},
          "execution_count": 4
        }
      ]
    },
    {
      "cell_type": "code",
      "source": [
        "TENSOR_2 = torch.tensor([[[1,2,3],\n",
        "                          [3,2,1]],\n",
        "                         [[4,5,6],\n",
        "                          [6,7,8]]])\n",
        "# TENSOR_2.ndim\n",
        "TENSOR_2.shape"
      ],
      "metadata": {
        "colab": {
          "base_uri": "https://localhost:8080/"
        },
        "id": "WNQ6shu3gfoT",
        "outputId": "51fbbb93-9877-4e31-f52d-56b2ef6e5de0"
      },
      "execution_count": null,
      "outputs": [
        {
          "output_type": "execute_result",
          "data": {
            "text/plain": [
              "torch.Size([2, 2, 3])"
            ]
          },
          "metadata": {},
          "execution_count": 5
        }
      ]
    },
    {
      "cell_type": "code",
      "source": [
        "# Random Tensors\n",
        "random_tensor = torch.rand(2,2,3)\n",
        "random_tensor"
      ],
      "metadata": {
        "colab": {
          "base_uri": "https://localhost:8080/"
        },
        "id": "2Qo71J0FgnVU",
        "outputId": "1fc3aaaa-1a4e-4010-d27b-267adae6b7a4"
      },
      "execution_count": null,
      "outputs": [
        {
          "output_type": "execute_result",
          "data": {
            "text/plain": [
              "tensor([[[0.6115, 0.4853, 0.6747],\n",
              "         [0.3081, 0.7350, 0.5895]],\n",
              "\n",
              "        [[0.2102, 0.6733, 0.5444],\n",
              "         [0.9846, 0.2461, 0.5339]]])"
            ]
          },
          "metadata": {},
          "execution_count": 6
        }
      ]
    },
    {
      "cell_type": "code",
      "source": [
        "random_image_size_tensor = torch.rand(224, 224, 3)\n",
        "random_image_size_tensor"
      ],
      "metadata": {
        "colab": {
          "base_uri": "https://localhost:8080/"
        },
        "id": "DECYEYa5kFxQ",
        "outputId": "a6a5aacb-9ac3-4d98-96df-59058966cc06"
      },
      "execution_count": null,
      "outputs": [
        {
          "output_type": "execute_result",
          "data": {
            "text/plain": [
              "tensor([[[0.3187, 0.7515, 0.4169],\n",
              "         [0.4987, 0.3760, 0.3552],\n",
              "         [0.7044, 0.4367, 0.3440],\n",
              "         ...,\n",
              "         [0.2761, 0.4252, 0.6645],\n",
              "         [0.6928, 0.2800, 0.5687],\n",
              "         [0.1922, 0.1290, 0.7906]],\n",
              "\n",
              "        [[0.8949, 0.7134, 0.2494],\n",
              "         [0.8824, 0.3464, 0.0143],\n",
              "         [0.3853, 0.4617, 0.3227],\n",
              "         ...,\n",
              "         [0.2354, 0.7449, 0.2040],\n",
              "         [0.8478, 0.0252, 0.3214],\n",
              "         [0.7619, 0.4181, 0.8927]],\n",
              "\n",
              "        [[0.1259, 0.5917, 0.9133],\n",
              "         [0.6736, 0.4638, 0.0473],\n",
              "         [0.0699, 0.4755, 0.0829],\n",
              "         ...,\n",
              "         [0.4829, 0.2807, 0.5539],\n",
              "         [0.3243, 0.2001, 0.4312],\n",
              "         [0.6970, 0.0747, 0.1987]],\n",
              "\n",
              "        ...,\n",
              "\n",
              "        [[0.3884, 0.1923, 0.1062],\n",
              "         [0.7095, 0.9751, 0.7010],\n",
              "         [0.4803, 0.8952, 0.9559],\n",
              "         ...,\n",
              "         [0.9081, 0.6960, 0.7411],\n",
              "         [0.5636, 0.4537, 0.8248],\n",
              "         [0.3893, 0.3476, 0.9247]],\n",
              "\n",
              "        [[0.8607, 0.1333, 0.0463],\n",
              "         [0.2339, 0.8737, 0.9294],\n",
              "         [0.5438, 0.5884, 0.5987],\n",
              "         ...,\n",
              "         [0.2332, 0.4782, 0.4148],\n",
              "         [0.7210, 0.4307, 0.9491],\n",
              "         [0.9432, 0.3854, 0.4953]],\n",
              "\n",
              "        [[0.3335, 0.6901, 0.2321],\n",
              "         [0.0283, 0.0688, 0.7790],\n",
              "         [0.9627, 0.9741, 0.8814],\n",
              "         ...,\n",
              "         [0.5645, 0.6526, 0.4719],\n",
              "         [0.4206, 0.2596, 0.8165],\n",
              "         [0.9667, 0.3076, 0.6412]]])"
            ]
          },
          "metadata": {},
          "execution_count": 7
        }
      ]
    },
    {
      "cell_type": "code",
      "source": [
        "#Multiplying tensors\n"
      ],
      "metadata": {
        "id": "uD005pn4dHnm"
      },
      "execution_count": null,
      "outputs": []
    },
    {
      "cell_type": "code",
      "source": [],
      "metadata": {
        "id": "fxH-oGkPczbs"
      },
      "execution_count": null,
      "outputs": []
    },
    {
      "cell_type": "code",
      "source": [
        "# Zero and one tensors\n",
        "zeros = torch.zeros(5,5)\n",
        "ones = torch.ones(5,5, dtype=torch.int)\n",
        "\n",
        "zeros, ones"
      ],
      "metadata": {
        "colab": {
          "base_uri": "https://localhost:8080/"
        },
        "id": "Xvr_2UZHko4F",
        "outputId": "06c1c8c9-4d8e-43db-9e81-f1e39ac8ad02"
      },
      "execution_count": null,
      "outputs": [
        {
          "output_type": "execute_result",
          "data": {
            "text/plain": [
              "(tensor([[0., 0., 0., 0., 0.],\n",
              "         [0., 0., 0., 0., 0.],\n",
              "         [0., 0., 0., 0., 0.],\n",
              "         [0., 0., 0., 0., 0.],\n",
              "         [0., 0., 0., 0., 0.]]),\n",
              " tensor([[1, 1, 1, 1, 1],\n",
              "         [1, 1, 1, 1, 1],\n",
              "         [1, 1, 1, 1, 1],\n",
              "         [1, 1, 1, 1, 1],\n",
              "         [1, 1, 1, 1, 1]], dtype=torch.int32))"
            ]
          },
          "metadata": {},
          "execution_count": 9
        }
      ]
    },
    {
      "cell_type": "code",
      "source": [
        "# Using torch.arange\n",
        "one_to_ten = torch.arange(1, 11)\n",
        "one_to_ten"
      ],
      "metadata": {
        "colab": {
          "base_uri": "https://localhost:8080/"
        },
        "id": "sZdvWm_Wl_FH",
        "outputId": "909fe51b-d8ac-4c2c-e596-8b6078f02d27"
      },
      "execution_count": null,
      "outputs": [
        {
          "output_type": "execute_result",
          "data": {
            "text/plain": [
              "tensor([ 1,  2,  3,  4,  5,  6,  7,  8,  9, 10])"
            ]
          },
          "metadata": {},
          "execution_count": 10
        }
      ]
    },
    {
      "cell_type": "code",
      "source": [
        "# Creating tensors-like\n",
        "\n",
        "ten_zeros = torch.ones_like(input=one_to_ten)\n",
        "ten_zeros"
      ],
      "metadata": {
        "colab": {
          "base_uri": "https://localhost:8080/"
        },
        "id": "tygFs9mLmrU6",
        "outputId": "0e728315-88c0-452f-d8db-b119dcbcfe88"
      },
      "execution_count": 21,
      "outputs": [
        {
          "output_type": "execute_result",
          "data": {
            "text/plain": [
              "tensor([1, 1, 1, 1, 1, 1, 1, 1, 1, 1])"
            ]
          },
          "metadata": {},
          "execution_count": 21
        }
      ]
    },
    {
      "cell_type": "code",
      "source": [
        "import torch\n",
        "#Setting the tensor details\n",
        "int_64_tensor = torch.tensor([3,4,5],\n",
        "                               \t\t\tdtype=None,\n",
        "                               device=None,\n",
        "                               requires_grad=False)\n",
        "int_64_tensor, int_64_tensor.dtype"
      ],
      "metadata": {
        "id": "Hlj1kpOvnNYY",
        "colab": {
          "base_uri": "https://localhost:8080/"
        },
        "outputId": "0b2a23e3-2f53-4bdd-ba09-35d372c5c08e"
      },
      "execution_count": 22,
      "outputs": [
        {
          "output_type": "execute_result",
          "data": {
            "text/plain": [
              "(tensor([3, 4, 5]), torch.int64)"
            ]
          },
          "metadata": {},
          "execution_count": 22
        }
      ]
    },
    {
      "cell_type": "code",
      "source": [
        "#Changing the tensor`s datatype\n",
        "float_32_tensor = int_64_tensor.type(torch.float32)\n",
        "float_32_tensor, float_32_tensor.dtype\n"
      ],
      "metadata": {
        "colab": {
          "base_uri": "https://localhost:8080/"
        },
        "id": "TyMUxksMbZxk",
        "outputId": "cb59b0d1-31d9-4986-f77a-00a44d4a229a"
      },
      "execution_count": 23,
      "outputs": [
        {
          "output_type": "execute_result",
          "data": {
            "text/plain": [
              "(tensor([3., 4., 5.]), torch.float32)"
            ]
          },
          "metadata": {},
          "execution_count": 23
        }
      ]
    },
    {
      "cell_type": "code",
      "source": [
        "#Manipulating tensors\n",
        "tensor = torch.tensor([1,2,3])\n",
        "#tensor+10,tensor*10\n",
        "\n",
        "#PyTorch inbuilt functions\n",
        "torch.mul(tensor, 10), torch.add(tensor, 10)"
      ],
      "metadata": {
        "colab": {
          "base_uri": "https://localhost:8080/"
        },
        "id": "HfRVxz_Nds2A",
        "outputId": "c7239e20-cfaa-4850-d6fe-a7ba40947234"
      },
      "execution_count": 24,
      "outputs": [
        {
          "output_type": "execute_result",
          "data": {
            "text/plain": [
              "(tensor([10, 20, 30]), tensor([11, 12, 13]))"
            ]
          },
          "metadata": {},
          "execution_count": 24
        }
      ]
    },
    {
      "cell_type": "code",
      "source": [
        "#Matrix multiplication\n",
        "print(tensor*tensor)\n",
        "print(f\"equals {tensor*tensor}\")\n",
        "\n",
        "torch.matmul(tensor, tensor)\n",
        "\n",
        "torch.matmul(torch.rand(3,3), torch.rand(3,3))"
      ],
      "metadata": {
        "colab": {
          "base_uri": "https://localhost:8080/"
        },
        "id": "1fBMY0gFekZi",
        "outputId": "ab9570d1-1497-4a4c-8957-e9236097b4b2"
      },
      "execution_count": 25,
      "outputs": [
        {
          "output_type": "stream",
          "name": "stdout",
          "text": [
            "tensor([1, 4, 9])\n",
            "equals tensor([1, 4, 9])\n"
          ]
        },
        {
          "output_type": "execute_result",
          "data": {
            "text/plain": [
              "tensor([[0.2727, 0.9520, 0.4123],\n",
              "        [0.7964, 1.8842, 1.2829],\n",
              "        [0.4529, 0.6233, 0.4323]])"
            ]
          },
          "metadata": {},
          "execution_count": 25
        }
      ]
    },
    {
      "cell_type": "code",
      "source": [
        "tensor_B = torch.rand(3,2)\n",
        "tensor_B.shape, tensor_B.T.shape"
      ],
      "metadata": {
        "colab": {
          "base_uri": "https://localhost:8080/"
        },
        "id": "bFTfZ4KBfUO1",
        "outputId": "d1669f62-3709-423a-9561-2d95f3b8cb84"
      },
      "execution_count": 26,
      "outputs": [
        {
          "output_type": "execute_result",
          "data": {
            "text/plain": [
              "(torch.Size([3, 2]), torch.Size([2, 3]))"
            ]
          },
          "metadata": {},
          "execution_count": 26
        }
      ]
    },
    {
      "cell_type": "code",
      "source": [
        "# Tensor Aggregation\n",
        "\n",
        "x = torch.arange(0,100,10)\n",
        "x"
      ],
      "metadata": {
        "colab": {
          "base_uri": "https://localhost:8080/"
        },
        "id": "CTlZWcjkfSLG",
        "outputId": "3da5e054-3026-4823-cc5a-bb1c82573de8"
      },
      "execution_count": 27,
      "outputs": [
        {
          "output_type": "execute_result",
          "data": {
            "text/plain": [
              "tensor([ 0, 10, 20, 30, 40, 50, 60, 70, 80, 90])"
            ]
          },
          "metadata": {},
          "execution_count": 27
        }
      ]
    },
    {
      "cell_type": "code",
      "source": [
        "#Finding the max\n",
        "torch.min(x), x.min()\n",
        "\n",
        "#Finding tge max\n",
        "torch.max(x), x.max()\n",
        "\n",
        "#SUM\n",
        "x.sum()\n",
        "\n",
        "#Max and min oosotion\n",
        "x.argmin()\n",
        "x.argmax()\n",
        "x[x.argmax()]\n",
        "\n"
      ],
      "metadata": {
        "colab": {
          "base_uri": "https://localhost:8080/"
        },
        "id": "JJgGmSQQiVkA",
        "outputId": "e57c3165-a6b1-480e-a7a0-efdf2b215a55"
      },
      "execution_count": 28,
      "outputs": [
        {
          "output_type": "execute_result",
          "data": {
            "text/plain": [
              "tensor(90)"
            ]
          },
          "metadata": {},
          "execution_count": 28
        }
      ]
    },
    {
      "cell_type": "code",
      "source": [
        "#Manipulating the tensor's shape\n",
        "\n",
        "x = torch.arange(1., 10.)\n",
        "\n",
        "x_reshaped = x.reshape(1,3,1,1,3)\n",
        "x.shape, x_reshaped.shape\n",
        "\n",
        "torch.stack([x,x,x], dim=0), torch.stack([x,x,x], dim=1)"
      ],
      "metadata": {
        "colab": {
          "base_uri": "https://localhost:8080/"
        },
        "id": "hZuAq_OkiZEF",
        "outputId": "00386501-1f7e-4e64-b886-38b34236c901"
      },
      "execution_count": 29,
      "outputs": [
        {
          "output_type": "execute_result",
          "data": {
            "text/plain": [
              "(tensor([[1., 2., 3., 4., 5., 6., 7., 8., 9.],\n",
              "         [1., 2., 3., 4., 5., 6., 7., 8., 9.],\n",
              "         [1., 2., 3., 4., 5., 6., 7., 8., 9.]]),\n",
              " tensor([[1., 1., 1.],\n",
              "         [2., 2., 2.],\n",
              "         [3., 3., 3.],\n",
              "         [4., 4., 4.],\n",
              "         [5., 5., 5.],\n",
              "         [6., 6., 6.],\n",
              "         [7., 7., 7.],\n",
              "         [8., 8., 8.],\n",
              "         [9., 9., 9.]]))"
            ]
          },
          "metadata": {},
          "execution_count": 29
        }
      ]
    },
    {
      "cell_type": "code",
      "source": [
        "x_reshaped,x_reshaped.shape"
      ],
      "metadata": {
        "id": "QDj7v721khtq",
        "colab": {
          "base_uri": "https://localhost:8080/"
        },
        "outputId": "245ac640-890f-442a-a352-91ba28de16d5"
      },
      "execution_count": 36,
      "outputs": [
        {
          "output_type": "execute_result",
          "data": {
            "text/plain": [
              "(tensor([[[[[1., 2., 3.]]],\n",
              " \n",
              " \n",
              "          [[[4., 5., 6.]]],\n",
              " \n",
              " \n",
              "          [[[7., 8., 9.]]]]]),\n",
              " torch.Size([1, 3, 1, 1, 3]))"
            ]
          },
          "metadata": {},
          "execution_count": 36
        }
      ]
    },
    {
      "cell_type": "code",
      "source": [
        "x_squeezed = x_reshaped.squeeze()\n",
        "x_squeezed,x_squeezed.shape"
      ],
      "metadata": {
        "id": "7LLcO2cg-sBT",
        "colab": {
          "base_uri": "https://localhost:8080/"
        },
        "outputId": "0ae7c880-1e91-48da-c6a6-b8805dba35e5"
      },
      "execution_count": 38,
      "outputs": [
        {
          "output_type": "execute_result",
          "data": {
            "text/plain": [
              "(tensor([[1., 2., 3.],\n",
              "         [4., 5., 6.],\n",
              "         [7., 8., 9.]]),\n",
              " torch.Size([3, 3]))"
            ]
          },
          "metadata": {},
          "execution_count": 38
        }
      ]
    },
    {
      "cell_type": "code",
      "source": [
        "x_unsqueezed = x_squeezed.unsqueeze(dim=1)\n",
        "x_unsqueezed"
      ],
      "metadata": {
        "colab": {
          "base_uri": "https://localhost:8080/"
        },
        "id": "95ZsxlKVNNA4",
        "outputId": "4f1221c9-08ec-4445-b5d2-13a3338d8381"
      },
      "execution_count": 43,
      "outputs": [
        {
          "output_type": "execute_result",
          "data": {
            "text/plain": [
              "tensor([[[1., 2., 3.]],\n",
              "\n",
              "        [[4., 5., 6.]],\n",
              "\n",
              "        [[7., 8., 9.]]])"
            ]
          },
          "metadata": {},
          "execution_count": 43
        }
      ]
    },
    {
      "cell_type": "code",
      "source": [
        "# torch.permute\n",
        "\n",
        "x = torch.rand(size=(224,224,3)) #[height, width, color_channels]\n",
        "x.shape\n",
        "\n",
        "x_permuted = x.permute(2,0,1)\n",
        "# x_permuted.shape"
      ],
      "metadata": {
        "id": "_njtN-pzkgEg",
        "colab": {
          "base_uri": "https://localhost:8080/"
        },
        "outputId": "8e195a8b-a2fb-41e8-b2bb-32d890542d38"
      },
      "execution_count": 47,
      "outputs": [
        {
          "output_type": "execute_result",
          "data": {
            "text/plain": [
              "tensor([[[0.8847, 0.4900, 0.4233],\n",
              "         [0.4323, 0.0819, 0.7636],\n",
              "         [0.6431, 0.3759, 0.6809],\n",
              "         ...,\n",
              "         [0.8019, 0.9226, 0.6821],\n",
              "         [0.1789, 0.1783, 0.1223],\n",
              "         [0.8686, 0.7684, 0.8544]],\n",
              "\n",
              "        [[0.2396, 0.6415, 0.4570],\n",
              "         [0.8649, 0.9245, 0.2369],\n",
              "         [0.1114, 0.0426, 0.1654],\n",
              "         ...,\n",
              "         [0.6330, 0.9539, 0.8315],\n",
              "         [0.1431, 0.8489, 0.7550],\n",
              "         [0.0395, 0.7144, 0.7035]],\n",
              "\n",
              "        [[0.7594, 0.0963, 0.6328],\n",
              "         [0.4382, 0.8998, 0.8110],\n",
              "         [0.7472, 0.5562, 0.7891],\n",
              "         ...,\n",
              "         [0.5574, 0.2504, 0.9483],\n",
              "         [0.5080, 0.7867, 0.8172],\n",
              "         [0.1688, 0.0944, 0.8479]],\n",
              "\n",
              "        ...,\n",
              "\n",
              "        [[0.2526, 0.9388, 0.4973],\n",
              "         [0.4705, 0.4431, 0.4670],\n",
              "         [0.2322, 0.2195, 0.9620],\n",
              "         ...,\n",
              "         [0.1684, 0.7649, 0.7558],\n",
              "         [0.5728, 0.3694, 0.0955],\n",
              "         [0.2236, 0.7852, 0.6363]],\n",
              "\n",
              "        [[0.3170, 0.2741, 0.3089],\n",
              "         [0.4361, 0.0280, 0.8225],\n",
              "         [0.2366, 0.7902, 0.8657],\n",
              "         ...,\n",
              "         [0.9910, 0.2358, 0.1992],\n",
              "         [0.4163, 0.9062, 0.0388],\n",
              "         [0.3077, 0.8987, 0.4592]],\n",
              "\n",
              "        [[0.9255, 0.6208, 0.3574],\n",
              "         [0.3694, 0.2373, 0.0122],\n",
              "         [0.6058, 0.2266, 0.3545],\n",
              "         ...,\n",
              "         [0.7230, 0.6276, 0.5838],\n",
              "         [0.1275, 0.0099, 0.9551],\n",
              "         [0.5732, 0.9856, 0.3779]]])"
            ]
          },
          "metadata": {},
          "execution_count": 47
        }
      ]
    },
    {
      "cell_type": "code",
      "source": [
        "# Indexing (selecting data from tensors)\n",
        "\n",
        "x = torch.arange(1, 10).reshape(1,3,3)\n",
        "# x,x.shape\n",
        "x[0][0][2], x[0, 0, 2]"
      ],
      "metadata": {
        "colab": {
          "base_uri": "https://localhost:8080/"
        },
        "id": "GnGKmbrgPLul",
        "outputId": "1e886cb5-84f3-4a4d-c692-32cdab5090d7"
      },
      "execution_count": 52,
      "outputs": [
        {
          "output_type": "execute_result",
          "data": {
            "text/plain": [
              "(tensor(3), tensor(3))"
            ]
          },
          "metadata": {},
          "execution_count": 52
        }
      ]
    },
    {
      "cell_type": "code",
      "source": [
        "x[:,1,:]\n",
        "x[:,1,1]"
      ],
      "metadata": {
        "colab": {
          "base_uri": "https://localhost:8080/"
        },
        "id": "YCw20fOpQBj4",
        "outputId": "94ab6fd1-4f88-4d22-d928-a9c65f400c68"
      },
      "execution_count": 57,
      "outputs": [
        {
          "output_type": "execute_result",
          "data": {
            "text/plain": [
              "tensor([5])"
            ]
          },
          "metadata": {},
          "execution_count": 57
        }
      ]
    },
    {
      "cell_type": "code",
      "source": [
        "#  PyTorch and NumPy\n",
        "import torch\n",
        "import numpy as np\n",
        "\n",
        "\n",
        "array = np.arange(1.0, 8.0)\n",
        "tensor = torch.from_numpy(array).type(torch.int64)\n",
        "array, tensor"
      ],
      "metadata": {
        "colab": {
          "base_uri": "https://localhost:8080/"
        },
        "id": "6j3ZJGMbQBgA",
        "outputId": "bdb71239-1993-4854-8e25-faf8cd067b48"
      },
      "execution_count": 59,
      "outputs": [
        {
          "output_type": "execute_result",
          "data": {
            "text/plain": [
              "(array([1., 2., 3., 4., 5., 6., 7.]), tensor([1, 2, 3, 4, 5, 6, 7]))"
            ]
          },
          "metadata": {},
          "execution_count": 59
        }
      ]
    },
    {
      "cell_type": "code",
      "source": [
        ""
      ],
      "metadata": {
        "id": "oLeZaiqyQBc-"
      },
      "execution_count": null,
      "outputs": []
    },
    {
      "cell_type": "code",
      "source": [],
      "metadata": {
        "id": "3ymSiu-LQBa7"
      },
      "execution_count": null,
      "outputs": []
    },
    {
      "cell_type": "code",
      "source": [],
      "metadata": {
        "id": "UhxuDGbUQBUW"
      },
      "execution_count": null,
      "outputs": []
    }
  ]
}