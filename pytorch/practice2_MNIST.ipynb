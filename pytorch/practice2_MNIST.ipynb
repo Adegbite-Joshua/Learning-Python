{
  "cells": [
    {
      "cell_type": "markdown",
      "metadata": {
        "id": "view-in-github",
        "colab_type": "text"
      },
      "source": [
        "<a href=\"https://colab.research.google.com/github/Adegbite-Joshua/Learning-Python/blob/master/pytorch/practice2_MNIST.ipynb\" target=\"_parent\"><img src=\"https://colab.research.google.com/assets/colab-badge.svg\" alt=\"Open In Colab\"/></a>"
      ]
    },
    {
      "cell_type": "code",
      "execution_count": 1,
      "metadata": {
        "colab": {
          "base_uri": "https://localhost:8080/"
        },
        "id": "-agt5HdusO-7",
        "outputId": "b801eb2a-09ba-4ff2-8af3-522435d2cb72"
      },
      "outputs": [
        {
          "output_type": "stream",
          "name": "stdout",
          "text": [
            "[INFO] Couldn't find torchinfo... installing it.\n",
            "[INFO] Couldn't find going_modular scripts... downloading them from GitHub.\n",
            "Cloning into 'pytorch-deep-learning'...\n",
            "remote: Enumerating objects: 4056, done.\u001b[K\n",
            "remote: Total 4056 (delta 0), reused 0 (delta 0), pack-reused 4056\u001b[K\n",
            "Receiving objects: 100% (4056/4056), 646.90 MiB | 28.30 MiB/s, done.\n",
            "Resolving deltas: 100% (2372/2372), done.\n",
            "Updating files: 100% (248/248), done.\n"
          ]
        }
      ],
      "source": [
        "# Import dependencies\n",
        "import torch\n",
        "import torchvision\n",
        "import matplotlib.pyplot as plt\n",
        "import os\n",
        "\n",
        "# Try to get torchinfo, install it if it doesn't work\n",
        "try:\n",
        "    from torchinfo import summary\n",
        "except:\n",
        "    print(\"[INFO] Couldn't find torchinfo... installing it.\")\n",
        "    !pip install -q torchinfo\n",
        "    from torchinfo import summary\n",
        "\n",
        "# Try to import the going_modular directory, download it from GitHub if it doesn't work\n",
        "try:\n",
        "    from going_modular.going_modular import data_setup, engine\n",
        "except:\n",
        "    # Get the going_modular scripts\n",
        "    print(\"[INFO] Couldn't find going_modular scripts... downloading them from GitHub.\")\n",
        "    !git clone https://github.com/mrdbourke/pytorch-deep-learning\n",
        "    !mv pytorch-deep-learning/going_modular .\n",
        "    !rm -rf pytorch-deep-learning\n",
        "    from going_modular.going_modular import data_setup, engine\n",
        "\n",
        "from torchvision import transforms, datasets\n",
        "from torch.utils.data import DataLoader\n",
        "from torch.utils.tensorboard import SummaryWriter\n",
        "from tqdm.auto import tqdm"
      ]
    },
    {
      "cell_type": "code",
      "execution_count": 2,
      "metadata": {
        "id": "ydmMYIMEuyRn"
      },
      "outputs": [],
      "source": [
        "device = \"cuda\" if torch.cuda.is_available() else \"cpu\";\n",
        "\n",
        "weights = torchvision.models.EfficientNet_B2_Weights.DEFAULT\n",
        "data_transform = transforms.Compose([\n",
        "    transforms.Resize(size=(28, 28)),\n",
        "    transforms.Grayscale(num_output_channels=3),\n",
        "    weights.transforms(),\n",
        "    transforms.Grayscale(num_output_channels=1),\n",
        "    transforms.Resize(size=(28, 28)),\n",
        "    # transforms.ToTensor(),\n",
        "])\n",
        "\n",
        "\n",
        "# data_transform = transforms.Compose([\n",
        "#     transforms.Resize(size=(28, 28)),\n",
        "#     transforms.Grayscale(num_output_channels=3),\n",
        "#     weights.transforms(),\n",
        "#     transforms.Resize(size=(28, 28)),\n",
        "#     transforms.ToTensor(),\n",
        "#     transforms.Normalize(mean=[0.485, 0.456, 0.406], std=[0.229, 0.224, 0.225]),\n",
        "# ])"
      ]
    },
    {
      "cell_type": "code",
      "execution_count": 3,
      "metadata": {
        "colab": {
          "base_uri": "https://localhost:8080/"
        },
        "id": "aISDiSHYvZTb",
        "outputId": "7bd33187-887b-4f0b-f92e-3637535f1b6a"
      },
      "outputs": [
        {
          "output_type": "stream",
          "name": "stdout",
          "text": [
            "Downloading http://yann.lecun.com/exdb/mnist/train-images-idx3-ubyte.gz\n",
            "Failed to download (trying next):\n",
            "HTTP Error 403: Forbidden\n",
            "\n",
            "Downloading https://ossci-datasets.s3.amazonaws.com/mnist/train-images-idx3-ubyte.gz\n",
            "Downloading https://ossci-datasets.s3.amazonaws.com/mnist/train-images-idx3-ubyte.gz to data/MNIST/raw/train-images-idx3-ubyte.gz\n"
          ]
        },
        {
          "output_type": "stream",
          "name": "stderr",
          "text": [
            "100%|██████████| 9912422/9912422 [00:00<00:00, 35569270.77it/s]\n"
          ]
        },
        {
          "output_type": "stream",
          "name": "stdout",
          "text": [
            "Extracting data/MNIST/raw/train-images-idx3-ubyte.gz to data/MNIST/raw\n",
            "\n",
            "Downloading http://yann.lecun.com/exdb/mnist/train-labels-idx1-ubyte.gz\n",
            "Failed to download (trying next):\n",
            "HTTP Error 403: Forbidden\n",
            "\n",
            "Downloading https://ossci-datasets.s3.amazonaws.com/mnist/train-labels-idx1-ubyte.gz\n",
            "Downloading https://ossci-datasets.s3.amazonaws.com/mnist/train-labels-idx1-ubyte.gz to data/MNIST/raw/train-labels-idx1-ubyte.gz\n"
          ]
        },
        {
          "output_type": "stream",
          "name": "stderr",
          "text": [
            "100%|██████████| 28881/28881 [00:00<00:00, 1097213.79it/s]\n"
          ]
        },
        {
          "output_type": "stream",
          "name": "stdout",
          "text": [
            "Extracting data/MNIST/raw/train-labels-idx1-ubyte.gz to data/MNIST/raw\n",
            "\n",
            "Downloading http://yann.lecun.com/exdb/mnist/t10k-images-idx3-ubyte.gz\n",
            "Failed to download (trying next):\n",
            "HTTP Error 403: Forbidden\n",
            "\n",
            "Downloading https://ossci-datasets.s3.amazonaws.com/mnist/t10k-images-idx3-ubyte.gz\n",
            "Downloading https://ossci-datasets.s3.amazonaws.com/mnist/t10k-images-idx3-ubyte.gz to data/MNIST/raw/t10k-images-idx3-ubyte.gz\n"
          ]
        },
        {
          "output_type": "stream",
          "name": "stderr",
          "text": [
            "100%|██████████| 1648877/1648877 [00:00<00:00, 9568684.89it/s]\n"
          ]
        },
        {
          "output_type": "stream",
          "name": "stdout",
          "text": [
            "Extracting data/MNIST/raw/t10k-images-idx3-ubyte.gz to data/MNIST/raw\n",
            "\n",
            "Downloading http://yann.lecun.com/exdb/mnist/t10k-labels-idx1-ubyte.gz\n",
            "Failed to download (trying next):\n",
            "HTTP Error 403: Forbidden\n",
            "\n",
            "Downloading https://ossci-datasets.s3.amazonaws.com/mnist/t10k-labels-idx1-ubyte.gz\n",
            "Downloading https://ossci-datasets.s3.amazonaws.com/mnist/t10k-labels-idx1-ubyte.gz to data/MNIST/raw/t10k-labels-idx1-ubyte.gz\n"
          ]
        },
        {
          "output_type": "stream",
          "name": "stderr",
          "text": [
            "100%|██████████| 4542/4542 [00:00<00:00, 3510324.08it/s]"
          ]
        },
        {
          "output_type": "stream",
          "name": "stdout",
          "text": [
            "Extracting data/MNIST/raw/t10k-labels-idx1-ubyte.gz to data/MNIST/raw\n",
            "\n"
          ]
        },
        {
          "output_type": "stream",
          "name": "stderr",
          "text": [
            "\n"
          ]
        },
        {
          "output_type": "execute_result",
          "data": {
            "text/plain": [
              "['0 - zero',\n",
              " '1 - one',\n",
              " '2 - two',\n",
              " '3 - three',\n",
              " '4 - four',\n",
              " '5 - five',\n",
              " '6 - six',\n",
              " '7 - seven',\n",
              " '8 - eight',\n",
              " '9 - nine']"
            ]
          },
          "metadata": {},
          "execution_count": 3
        }
      ],
      "source": [
        "train_datasets = datasets.MNIST(root=\"data\",\n",
        "                                train=True,\n",
        "                                download=True,\n",
        "                                transform=data_transform\n",
        "                                )\n",
        "test_datasets = datasets.MNIST(root=\"data\",\n",
        "                                train=False,\n",
        "                                download=True,\n",
        "                                transform=data_transform\n",
        "                                )\n",
        "\n",
        "class_names = train_datasets.classes\n",
        "class_names"
      ]
    },
    {
      "cell_type": "code",
      "execution_count": 4,
      "metadata": {
        "colab": {
          "base_uri": "https://localhost:8080/"
        },
        "id": "ef4knAF49GP_",
        "outputId": "bd2af777-0bb4-41f3-e7d8-9b72d33a42c1"
      },
      "outputs": [
        {
          "output_type": "execute_result",
          "data": {
            "text/plain": [
              "torch.Size([1, 28, 28])"
            ]
          },
          "metadata": {},
          "execution_count": 4
        }
      ],
      "source": [
        "train_datasets[0][0].shape\n"
      ]
    },
    {
      "cell_type": "code",
      "execution_count": 5,
      "metadata": {
        "colab": {
          "base_uri": "https://localhost:8080/"
        },
        "id": "vRLBzKK6xFJ7",
        "outputId": "c688704b-7cc3-49d6-9b08-4a1da460bb35"
      },
      "outputs": [
        {
          "output_type": "execute_result",
          "data": {
            "text/plain": [
              "(tensor([[[-2.0337, -2.0337, -2.0337, -2.0337, -2.0337, -2.0337, -2.0337,\n",
              "           -2.0337, -2.0337, -2.0337, -2.0337, -2.0337, -2.0337, -2.0337,\n",
              "           -2.0337, -2.0337, -2.0337, -2.0337, -2.0337, -2.0337, -2.0337,\n",
              "           -2.0337, -2.0337, -2.0337, -2.0337, -2.0337, -2.0337, -2.0337],\n",
              "          [-2.0337, -2.0337, -2.0337, -2.0337, -2.0337, -2.0337, -2.0337,\n",
              "           -2.0337, -2.0337, -2.0337, -2.0337, -2.0337, -2.0337, -2.0337,\n",
              "           -2.0337, -2.0337, -2.0337, -2.0337, -2.0337, -2.0337, -2.0337,\n",
              "           -2.0337, -2.0337, -2.0337, -2.0337, -2.0337, -2.0337, -2.0337],\n",
              "          [-2.0337, -2.0337, -2.0337, -2.0337, -2.0337, -2.0337, -2.0337,\n",
              "           -2.0337, -2.0337, -2.0337, -2.0337, -2.0337, -2.0337, -2.0337,\n",
              "           -2.0337, -2.0337, -2.0337, -2.0337, -2.0337, -2.0337, -2.0337,\n",
              "           -2.0337, -2.0337, -2.0337, -2.0337, -2.0337, -2.0337, -2.0337],\n",
              "          [-2.0337, -2.0337, -2.0337, -2.0337, -2.0337, -2.0337, -2.0337,\n",
              "           -2.0337, -2.0337, -2.0337, -2.0337, -2.0337, -2.0337, -2.0337,\n",
              "           -2.0337, -2.0337, -2.0337, -2.0337, -2.0337, -2.0337, -2.0337,\n",
              "           -2.0337, -2.0337, -2.0337, -2.0337, -2.0337, -2.0337, -2.0337],\n",
              "          [-2.0337, -2.0337, -2.0337, -2.0337, -2.0337, -2.0337, -2.0337,\n",
              "           -2.0337, -2.0337, -2.0337, -2.0337, -2.0337, -2.0336, -2.0324,\n",
              "           -2.0325, -1.9907, -1.7672, -1.6693, -1.6488, -1.8958, -1.6273,\n",
              "           -1.3650, -1.3791, -1.6729, -1.9810, -2.0337, -2.0337, -2.0337],\n",
              "          [-2.0337, -2.0337, -2.0337, -2.0337, -2.0337, -2.0337, -2.0337,\n",
              "           -2.0322, -2.0172, -1.9784, -1.8214, -1.6572, -1.5269, -1.2495,\n",
              "           -1.2089, -1.0159, -0.0144,  0.3907,  0.3923, -0.7520,  0.5610,\n",
              "            1.5962,  1.3795, -0.2436, -1.7821, -2.0337, -2.0337, -2.0337],\n",
              "          [-2.0337, -2.0337, -2.0337, -2.0337, -2.0337, -2.0337, -2.0199,\n",
              "           -1.8016, -1.1994, -0.9021, -0.2457,  0.4369,  0.8594,  1.6098,\n",
              "            1.7405,  1.7829,  2.0294,  2.0390,  1.4421,  0.7612,  1.6248,\n",
              "            1.7516,  1.0073, -0.7721, -1.8849, -2.0337, -2.0337, -2.0337],\n",
              "          [-2.0337, -2.0337, -2.0337, -2.0337, -2.0337, -2.0337, -1.9739,\n",
              "           -1.0569,  1.2262,  1.8178,  1.9714,  2.1333,  2.2280,  2.3565,\n",
              "            2.2882,  2.2668,  2.3768,  1.9603,  0.0264, -0.5200, -0.4489,\n",
              "           -0.7379, -1.1639, -1.7954, -2.0148, -2.0337, -2.0337, -2.0337],\n",
              "          [-2.0337, -2.0337, -2.0337, -2.0337, -2.0337, -2.0337, -2.0180,\n",
              "           -1.2864,  1.2126,  2.0927,  2.0895,  2.3317,  2.3786,  2.1338,\n",
              "            1.2206,  1.0109,  1.7145,  1.4375, -1.2304, -1.8417, -1.8641,\n",
              "           -1.9275, -1.9788, -2.0286, -2.0337, -2.0337, -2.0337, -2.0337],\n",
              "          [-2.0337, -2.0337, -2.0337, -2.0337, -2.0337, -2.0337, -2.0335,\n",
              "           -1.7968, -0.5545,  0.3326,  0.3191,  1.8229,  2.2436,  1.1116,\n",
              "           -1.0591, -1.4868, -0.7833, -0.0365, -1.6189, -2.0337, -2.0337,\n",
              "           -2.0337, -2.0337, -2.0337, -2.0337, -2.0337, -2.0337, -2.0337],\n",
              "          [-2.0337, -2.0337, -2.0337, -2.0337, -2.0337, -2.0337, -2.0337,\n",
              "           -2.0111, -1.8282, -1.6188, -1.3815,  0.7431,  1.9357,  0.0625,\n",
              "           -1.7650, -2.0325, -1.9318, -1.7308, -1.9644, -2.0337, -2.0337,\n",
              "           -2.0337, -2.0337, -2.0337, -2.0337, -2.0337, -2.0337, -2.0337],\n",
              "          [-2.0337, -2.0337, -2.0337, -2.0337, -2.0337, -2.0337, -2.0337,\n",
              "           -2.0337, -2.0335, -2.0326, -1.7369,  0.1200,  1.9137,  0.9306,\n",
              "           -1.4637, -2.0268, -2.0337, -2.0337, -2.0337, -2.0337, -2.0337,\n",
              "           -2.0337, -2.0337, -2.0337, -2.0337, -2.0337, -2.0337, -2.0337],\n",
              "          [-2.0337, -2.0337, -2.0337, -2.0337, -2.0337, -2.0337, -2.0337,\n",
              "           -2.0337, -2.0337, -2.0337, -1.9786, -1.2698,  0.9296,  1.7713,\n",
              "           -0.3413, -1.5359, -1.7987, -2.0045, -2.0337, -2.0337, -2.0337,\n",
              "           -2.0337, -2.0337, -2.0337, -2.0337, -2.0337, -2.0337, -2.0337],\n",
              "          [-2.0337, -2.0337, -2.0337, -2.0337, -2.0337, -2.0337, -2.0337,\n",
              "           -2.0337, -2.0337, -2.0337, -2.0337, -1.9442, -0.8695,  1.4450,\n",
              "            1.5829,  0.6819, -0.2227, -1.5435, -1.9774, -2.0330, -2.0337,\n",
              "           -2.0337, -2.0337, -2.0337, -2.0337, -2.0337, -2.0337, -2.0337],\n",
              "          [-2.0337, -2.0337, -2.0337, -2.0337, -2.0337, -2.0337, -2.0337,\n",
              "           -2.0337, -2.0337, -2.0337, -2.0337, -2.0333, -1.7968, -0.3648,\n",
              "            1.4888,  2.0702,  1.7783,  0.1558, -1.3103, -1.9461, -2.0334,\n",
              "           -2.0337, -2.0337, -2.0337, -2.0337, -2.0337, -2.0337, -2.0337],\n",
              "          [-2.0337, -2.0337, -2.0337, -2.0337, -2.0337, -2.0337, -2.0337,\n",
              "           -2.0337, -2.0337, -2.0337, -2.0337, -2.0337, -2.0169, -1.7771,\n",
              "           -0.7932,  0.8861,  1.8994,  1.8668,  0.5042, -1.1583, -1.9480,\n",
              "           -2.0337, -2.0337, -2.0337, -2.0337, -2.0337, -2.0337, -2.0337],\n",
              "          [-2.0337, -2.0337, -2.0337, -2.0337, -2.0337, -2.0337, -2.0337,\n",
              "           -2.0337, -2.0337, -2.0337, -2.0337, -2.0337, -2.0337, -2.0320,\n",
              "           -1.9160, -1.3748, -0.0800,  1.9517,  2.0599,  0.7725, -1.4570,\n",
              "           -2.0122, -2.0337, -2.0337, -2.0337, -2.0337, -2.0337, -2.0337],\n",
              "          [-2.0337, -2.0337, -2.0337, -2.0337, -2.0337, -2.0337, -2.0337,\n",
              "           -2.0337, -2.0337, -2.0337, -2.0337, -2.0337, -2.0337, -2.0309,\n",
              "           -1.9440, -1.7230, -0.9054,  1.7600,  2.3812,  1.6847, -0.8620,\n",
              "           -1.9435, -2.0337, -2.0337, -2.0337, -2.0337, -2.0337, -2.0337],\n",
              "          [-2.0337, -2.0337, -2.0337, -2.0337, -2.0337, -2.0337, -2.0337,\n",
              "           -2.0337, -2.0337, -2.0337, -2.0337, -2.0325, -1.9498, -1.6167,\n",
              "           -0.8861,  0.1381,  1.0070,  2.1526,  2.3389,  1.3004, -1.3372,\n",
              "           -2.0122, -2.0337, -2.0337, -2.0337, -2.0337, -2.0337, -2.0337],\n",
              "          [-2.0337, -2.0337, -2.0337, -2.0337, -2.0337, -2.0337, -2.0337,\n",
              "           -2.0337, -2.0337, -2.0335, -1.9903, -1.7176, -0.9497,  0.4055,\n",
              "            1.5253,  2.0513,  2.2422,  2.2491,  1.8431,  0.5369, -1.6148,\n",
              "           -2.0337, -2.0337, -2.0337, -2.0337, -2.0337, -2.0337, -2.0337],\n",
              "          [-2.0337, -2.0337, -2.0337, -2.0337, -2.0337, -2.0337, -2.0337,\n",
              "           -2.0336, -2.0161, -1.8458, -1.1828,  0.0369,  1.3855,  2.1008,\n",
              "            2.3423,  2.2625,  1.8933,  1.0392, -0.4082, -1.4840, -1.9594,\n",
              "           -2.0337, -2.0337, -2.0337, -2.0337, -2.0337, -2.0337, -2.0337],\n",
              "          [-2.0337, -2.0337, -2.0337, -2.0337, -2.0337, -2.0337, -1.9675,\n",
              "           -1.6098, -1.2285, -0.4377,  1.1705,  2.0079,  2.3107,  2.2536,\n",
              "            1.8887,  1.0280, -0.3725, -1.4081, -1.8487, -2.0233, -2.0337,\n",
              "           -2.0337, -2.0337, -2.0337, -2.0337, -2.0337, -2.0337, -2.0337],\n",
              "          [-2.0337, -2.0337, -2.0337, -2.0192, -1.8844, -1.6029, -1.0396,\n",
              "            0.5498,  1.4148,  1.8938,  2.2811,  2.3598,  2.0205,  1.0195,\n",
              "           -0.3769, -1.3821, -1.8443, -2.0219, -2.0337, -2.0337, -2.0337,\n",
              "           -2.0337, -2.0337, -2.0337, -2.0337, -2.0337, -2.0337, -2.0337],\n",
              "          [-2.0337, -2.0337, -2.0337, -1.8962, -0.8914,  0.6703,  1.5337,\n",
              "            2.1392,  2.2795,  2.1299,  2.0402,  1.5565,  0.2138, -1.2782,\n",
              "           -1.8460, -2.0193, -2.0337, -2.0337, -2.0337, -2.0337, -2.0337,\n",
              "           -2.0337, -2.0337, -2.0337, -2.0337, -2.0337, -2.0337, -2.0337],\n",
              "          [-2.0337, -2.0337, -2.0337, -1.7652, -0.1712,  1.3995,  1.6932,\n",
              "            1.6471,  1.1947,  0.4166,  0.0321, -1.0929, -1.6995, -1.9931,\n",
              "           -2.0337, -2.0337, -2.0337, -2.0337, -2.0337, -2.0337, -2.0337,\n",
              "           -2.0337, -2.0337, -2.0337, -2.0337, -2.0337, -2.0337, -2.0337],\n",
              "          [-2.0337, -2.0337, -2.0337, -1.9756, -1.6450, -1.3564, -1.3232,\n",
              "           -1.3483, -1.4751, -1.6614, -1.7534, -1.9872, -2.0337, -2.0337,\n",
              "           -2.0337, -2.0337, -2.0337, -2.0337, -2.0337, -2.0337, -2.0337,\n",
              "           -2.0337, -2.0337, -2.0337, -2.0337, -2.0337, -2.0337, -2.0337],\n",
              "          [-2.0337, -2.0337, -2.0337, -2.0337, -2.0337, -2.0337, -2.0337,\n",
              "           -2.0337, -2.0337, -2.0337, -2.0337, -2.0337, -2.0337, -2.0337,\n",
              "           -2.0337, -2.0337, -2.0337, -2.0337, -2.0337, -2.0337, -2.0337,\n",
              "           -2.0337, -2.0337, -2.0337, -2.0337, -2.0337, -2.0337, -2.0337],\n",
              "          [-2.0337, -2.0337, -2.0337, -2.0337, -2.0337, -2.0337, -2.0337,\n",
              "           -2.0337, -2.0337, -2.0337, -2.0337, -2.0337, -2.0337, -2.0337,\n",
              "           -2.0337, -2.0337, -2.0337, -2.0337, -2.0337, -2.0337, -2.0337,\n",
              "           -2.0337, -2.0337, -2.0337, -2.0337, -2.0337, -2.0337, -2.0337]]]),\n",
              " 5)"
            ]
          },
          "metadata": {},
          "execution_count": 5
        }
      ],
      "source": [
        "train_datasets[0]"
      ]
    },
    {
      "cell_type": "code",
      "execution_count": 6,
      "metadata": {
        "colab": {
          "base_uri": "https://localhost:8080/",
          "height": 470
        },
        "id": "4iUFmoYMxOJf",
        "outputId": "cb175a9c-77c9-443e-81ef-750aa482b6ea"
      },
      "outputs": [
        {
          "output_type": "execute_result",
          "data": {
            "text/plain": [
              "<matplotlib.image.AxesImage at 0x7a9bfe0e59c0>"
            ]
          },
          "metadata": {},
          "execution_count": 6
        },
        {
          "output_type": "display_data",
          "data": {
            "text/plain": [
              "<Figure size 640x480 with 1 Axes>"
            ],
            "image/png": "[encoded data removed]"
          },
          "metadata": {}
        }
      ],
      "source": [
        "plt.title(class_names[train_datasets[700][1]])\n",
        "plt.imshow(train_datasets[700][0].permute(1,2,0))"
      ]
    },
    {
      "cell_type": "code",
      "execution_count": 7,
      "metadata": {
        "colab": {
          "base_uri": "https://localhost:8080/"
        },
        "id": "iPwe_ljsyHA3",
        "outputId": "838e3893-e9d9-4dc6-f94b-4f952d27a533"
      },
      "outputs": [
        {
          "output_type": "execute_result",
          "data": {
            "text/plain": [
              "(469, 79)"
            ]
          },
          "metadata": {},
          "execution_count": 7
        }
      ],
      "source": [
        "BATCH_SIZE = 128\n",
        "train_dataloader = DataLoader(dataset=train_datasets, batch_size=BATCH_SIZE, shuffle=True, num_workers=os.cpu_count(),)\n",
        "test_dataloader = DataLoader(dataset=test_datasets, batch_size=BATCH_SIZE, shuffle=False, num_workers=os.cpu_count())\n",
        "len(train_dataloader), len(test_dataloader)"
      ]
    },
    {
      "cell_type": "code",
      "execution_count": 8,
      "metadata": {
        "id": "HKpQ8W7OzTk7",
        "colab": {
          "base_uri": "https://localhost:8080/"
        },
        "outputId": "267f405c-a99e-4a10-e899-7d4ffd7ae9c4"
      },
      "outputs": [
        {
          "output_type": "stream",
          "name": "stderr",
          "text": [
            "Downloading: \"https://download.pytorch.org/models/efficientnet_b2_rwightman-c35c1473.pth\" to /root/.cache/torch/hub/checkpoints/efficientnet_b2_rwightman-c35c1473.pth\n",
            "100%|██████████| 35.2M/35.2M [00:00<00:00, 120MB/s]\n"
          ]
        }
      ],
      "source": [
        "MNIST_model_0 = torchvision.models.efficientnet_b2(weights=weights).to(device)"
      ]
    },
    {
      "cell_type": "code",
      "execution_count": 9,
      "metadata": {
        "id": "kuKXwZsL25Xv"
      },
      "outputs": [],
      "source": [
        "for params in MNIST_model_0.features.parameters():\n",
        "  params.requires_grad = False"
      ]
    },
    {
      "cell_type": "code",
      "execution_count": 10,
      "metadata": {
        "id": "dVaVWJIO3fgR"
      },
      "outputs": [],
      "source": [
        "\n",
        "MNIST_model_0.features[0][0] = torch.nn.Conv2d(1, MNIST_model_0.features[0][0].out_channels, kernel_size=3, stride=2, padding=1, bias=False)\n",
        "\n",
        "# Recreate the classifier layer\n",
        "MNIST_model_0.classifier = torch.nn.Sequential(\n",
        "    torch.nn.Dropout(p=0.2, inplace=True),\n",
        "    torch.nn.Linear(in_features=1408,\n",
        "                    out_features=len(class_names),\n",
        "                    bias=True)).to(device)"
      ]
    },
    {
      "cell_type": "code",
      "execution_count": 11,
      "metadata": {
        "colab": {
          "base_uri": "https://localhost:8080/"
        },
        "id": "Q2gQ1sQLIMPZ",
        "outputId": "8386037d-e97d-4088-d1ea-3e2669743d96"
      },
      "outputs": [
        {
          "output_type": "execute_result",
          "data": {
            "text/plain": [
              "=========================================================================================================\n",
              "Layer (type:depth-idx)                                  Output Shape              Param #\n",
              "=========================================================================================================\n",
              "EfficientNet                                            [128, 10]                 --\n",
              "├─Sequential: 1-1                                       [128, 1408, 1, 1]         --\n",
              "│    └─Conv2dNormActivation: 2-1                        [128, 32, 14, 14]         --\n",
              "│    │    └─Conv2d: 3-1                                 [128, 32, 14, 14]         288\n",
              "│    │    └─BatchNorm2d: 3-2                            [128, 32, 14, 14]         (64)\n",
              "│    │    └─SiLU: 3-3                                   [128, 32, 14, 14]         --\n",
              "│    └─Sequential: 2-2                                  [128, 16, 14, 14]         --\n",
              "│    │    └─MBConv: 3-4                                 [128, 16, 14, 14]         (1,448)\n",
              "│    │    └─MBConv: 3-5                                 [128, 16, 14, 14]         (612)\n",
              "│    └─Sequential: 2-3                                  [128, 24, 7, 7]           --\n",
              "│    │    └─MBConv: 3-6                                 [128, 24, 7, 7]           (6,004)\n",
              "│    │    └─MBConv: 3-7                                 [128, 24, 7, 7]           (10,710)\n",
              "│    │    └─MBConv: 3-8                                 [128, 24, 7, 7]           (10,710)\n",
              "│    └─Sequential: 2-4                                  [128, 48, 4, 4]           --\n",
              "│    │    └─MBConv: 3-9                                 [128, 48, 4, 4]           (16,518)\n",
              "│    │    └─MBConv: 3-10                                [128, 48, 4, 4]           (43,308)\n",
              "│    │    └─MBConv: 3-11                                [128, 48, 4, 4]           (43,308)\n",
              "│    └─Sequential: 2-5                                  [128, 88, 2, 2]           --\n",
              "│    │    └─MBConv: 3-12                                [128, 88, 2, 2]           (50,300)\n",
              "│    │    └─MBConv: 3-13                                [128, 88, 2, 2]           (123,750)\n",
              "│    │    └─MBConv: 3-14                                [128, 88, 2, 2]           (123,750)\n",
              "│    │    └─MBConv: 3-15                                [128, 88, 2, 2]           (123,750)\n",
              "│    └─Sequential: 2-6                                  [128, 120, 2, 2]          --\n",
              "│    │    └─MBConv: 3-16                                [128, 120, 2, 2]          (149,158)\n",
              "│    │    └─MBConv: 3-17                                [128, 120, 2, 2]          (237,870)\n",
              "│    │    └─MBConv: 3-18                                [128, 120, 2, 2]          (237,870)\n",
              "│    │    └─MBConv: 3-19                                [128, 120, 2, 2]          (237,870)\n",
              "│    └─Sequential: 2-7                                  [128, 208, 1, 1]          --\n",
              "│    │    └─MBConv: 3-20                                [128, 208, 1, 1]          (301,406)\n",
              "│    │    └─MBConv: 3-21                                [128, 208, 1, 1]          (686,868)\n",
              "│    │    └─MBConv: 3-22                                [128, 208, 1, 1]          (686,868)\n",
              "│    │    └─MBConv: 3-23                                [128, 208, 1, 1]          (686,868)\n",
              "│    │    └─MBConv: 3-24                                [128, 208, 1, 1]          (686,868)\n",
              "│    └─Sequential: 2-8                                  [128, 352, 1, 1]          --\n",
              "│    │    └─MBConv: 3-25                                [128, 352, 1, 1]          (846,900)\n",
              "│    │    └─MBConv: 3-26                                [128, 352, 1, 1]          (1,888,920)\n",
              "│    └─Conv2dNormActivation: 2-9                        [128, 1408, 1, 1]         --\n",
              "│    │    └─Conv2d: 3-27                                [128, 1408, 1, 1]         (495,616)\n",
              "│    │    └─BatchNorm2d: 3-28                           [128, 1408, 1, 1]         (2,816)\n",
              "│    │    └─SiLU: 3-29                                  [128, 1408, 1, 1]         --\n",
              "├─AdaptiveAvgPool2d: 1-2                                [128, 1408, 1, 1]         --\n",
              "├─Sequential: 1-3                                       [128, 10]                 --\n",
              "│    └─Dropout: 2-10                                    [128, 1408]               --\n",
              "│    └─Linear: 2-11                                     [128, 10]                 14,090\n",
              "=========================================================================================================\n",
              "Total params: 7,714,508\n",
              "Trainable params: 14,378\n",
              "Non-trainable params: 7,700,130\n",
              "Total mult-adds (G): 1.81\n",
              "=========================================================================================================\n",
              "Input size (MB): 0.40\n",
              "Forward/backward pass size (MB): 372.22\n",
              "Params size (MB): 30.86\n",
              "Estimated Total Size (MB): 403.48\n",
              "========================================================================================================="
            ]
          },
          "metadata": {},
          "execution_count": 11
        }
      ],
      "source": [
        "summary(MNIST_model_0, input_size=(128, 1, 28, 28))"
      ]
    },
    {
      "cell_type": "code",
      "execution_count": 12,
      "metadata": {
        "id": "zG5xCXia3zDK"
      },
      "outputs": [],
      "source": [
        "# Create a writer for tensorboard\n",
        "writer = SummaryWriter()"
      ]
    },
    {
      "cell_type": "code",
      "execution_count": 13,
      "metadata": {
        "colab": {
          "base_uri": "https://localhost:8080/"
        },
        "id": "4cnllour5ejY",
        "outputId": "777f9a98-1e83-4279-a64a-6db520dfe77e"
      },
      "outputs": [
        {
          "output_type": "stream",
          "name": "stderr",
          "text": [
            "/usr/lib/python3.10/multiprocessing/popen_fork.py:66: RuntimeWarning: os.fork() was called. os.fork() is incompatible with multithreaded code, and JAX is multithreaded, so this will likely lead to a deadlock.\n",
            "  self.pid = os.fork()\n"
          ]
        },
        {
          "output_type": "execute_result",
          "data": {
            "text/plain": [
              "torch.Size([128])"
            ]
          },
          "metadata": {},
          "execution_count": 13
        }
      ],
      "source": [
        "next(iter(train_dataloader))[1].shape"
      ]
    },
    {
      "cell_type": "code",
      "execution_count": 14,
      "metadata": {
        "id": "XTvfW-A-4paE"
      },
      "outputs": [],
      "source": [
        "def train(model, train_dataloader, test_dataloader, optimizer, loss_fn, device, epochs):\n",
        "\n",
        "  for epoch in tqdm(range(epochs)):\n",
        "    train_loss, train_acc = engine.train_step(model=model,\n",
        "                                           dataloader=train_dataloader,\n",
        "                                           loss_fn=loss_fn,\n",
        "                                           optimizer=optimizer,\n",
        "                                           device=device)\n",
        "    test_loss, test_acc = engine.test_step(model=model,\n",
        "                                        dataloader=test_dataloader,\n",
        "                                        loss_fn=loss_fn,\n",
        "                                        device=device)\n",
        "\n",
        "    print(f\"Epoch: {epoch+1} | Train loss: {train_loss:.4f} | Train acc: {train_acc:.4f} | Test loss: {test_loss:.4f} | Test acc: {test_acc:.4f}\")\n",
        "    if epoch == epochs-1:\n",
        "      writer.add_scalars(main_tag=\"Loss\",\n",
        "                       tag_scalar_dict={\"train_loss\": train_loss,\n",
        "                                        \"test_loss\": test_loss},\n",
        "                       global_step=epoch)\n",
        "      writer.add_scalars(main_tag=\"Accuracy\",\n",
        "                          tag_scalar_dict={\"train_acc\": train_acc,\n",
        "                                          \"test_acc\": test_acc},\n",
        "                          global_step=epoch)\n",
        "      writer.add_graph(model=model,\n",
        "                         # Pass in an example input\n",
        "                         input_to_model=torch.randn(32, 1, 32, 32).to(device))\n",
        "\n",
        "    # Close the writer\n",
        "    writer.close()"
      ]
    },
    {
      "cell_type": "code",
      "execution_count": null,
      "metadata": {
        "colab": {
          "base_uri": "https://localhost:8080/",
          "height": 122,
          "referenced_widgets": [
            "f4de31b06ba34c0bbcbd0818777c7fcd",
            "6348714501b742358a0294acaadc3464",
            "16a3df6c74494b8a84f5fec595a5da12",
            "427771028adb4f069ecfffba5e8c8422",
            "ad0013f8c3cc45f2bd694c921754739b",
            "d9742a75c1b7497ea1fda01dd0600f9c",
            "a29d1a6f543f4538a226ff060cd8febb",
            "573bbb5a4c63452e8b855b64c74b0594",
            "fc8008c8de064a70b0765cfe162be64b",
            "136e4169323a460aa27d9d1d312c782e",
            "f5b24a1e386c4a299fe078450d11aa6a"
          ]
        },
        "id": "BQiLkMbR7Y-c",
        "outputId": "59d02384-34dc-48e8-87df-5fb850ef859f"
      },
      "outputs": [
        {
          "output_type": "display_data",
          "data": {
            "text/plain": [
              "  0%|          | 0/10 [00:00<?, ?it/s]"
            ],
            "application/vnd.jupyter.widget-view+json": {
              "version_major": 2,
              "version_minor": 0,
              "model_id": "f4de31b06ba34c0bbcbd0818777c7fcd"
            }
          },
          "metadata": {}
        },
        {
          "output_type": "stream",
          "name": "stdout",
          "text": [
            "Epoch: 1 | Train loss: 3.2795 | Train acc: 0.4568 | Test loss: 1.8008 | Test acc: 0.5858\n",
            "Epoch: 2 | Train loss: 2.2063 | Train acc: 0.4946 | Test loss: 1.4142 | Test acc: 0.6086\n",
            "Epoch: 3 | Train loss: 1.7750 | Train acc: 0.5164 | Test loss: 1.2120 | Test acc: 0.6203\n",
            "Epoch: 4 | Train loss: 1.5803 | Train acc: 0.5305 | Test loss: 1.2445 | Test acc: 0.6232\n"
          ]
        }
      ],
      "source": [
        "loss_fn = torch.nn.CrossEntropyLoss()\n",
        "optimizer = torch.optim.SGD(params=MNIST_model_0.parameters(), lr=0.1)\n",
        "\n",
        "train(model=MNIST_model_0,\n",
        "                train_dataloader=train_dataloader,\n",
        "                test_dataloader=test_dataloader,\n",
        "                optimizer=optimizer,\n",
        "                loss_fn=loss_fn,\n",
        "                epochs=10,\n",
        "                device=device)\n",
        "# %load_ext tensorboard\n",
        "# %tensorboard --logdir runs"
      ]
    },
    {
      "cell_type": "code",
      "execution_count": 16,
      "metadata": {
        "id": "10Tv84d175Ke"
      },
      "outputs": [],
      "source": [
        "model_scripted = torch.jit.script(MNIST_model_0) # Export to TorchScript\n",
        "model_scripted.save(\"MNIST_model_0.pth\")"
      ]
    },
    {
      "cell_type": "code",
      "execution_count": 17,
      "metadata": {
        "id": "mW-fQiZSdS9z"
      },
      "outputs": [],
      "source": [
        "# Predicting on custom images\n",
        "\n",
        "def pred_and_plot_image(model,\n",
        "                        image_path,\n",
        "                        class_names,\n",
        "                        device=device):\n",
        "  # transform = data_transform\n",
        "  transform = transforms.Compose([\n",
        "      transforms.Grayscale(num_output_channels=1),\n",
        "      transforms.Resize(size=(28, 28)),\n",
        "  ])\n",
        "  target_image = torchvision.io.read_image(str(image_path)).type(torch.float32)\n",
        "  target_image /= 255\n",
        "\n",
        "  if transform:\n",
        "    target_image = transform(target_image)\n",
        "\n",
        "  model.to(device)\n",
        "\n",
        "  model.eval()\n",
        "  with torch.inference_mode():\n",
        "    target_image = target_image.unsqueeze(0)\n",
        "    target_image_pred = model(target_image.to(device))\n",
        "\n",
        "  target_image_pred_probs = torch.softmax(target_image_pred, dim=1)\n",
        "  target_image_pred_label = torch.argmax(target_image_pred_probs, dim=1)\n",
        "\n",
        "  plt.imshow(target_image.squeeze())\n",
        "  if class_names:\n",
        "    title = f\"Pred: {class_names[target_image_pred_label.cpu()]} | Prob {target_image_pred_probs.max().cpu():.3f}\"\n",
        "  else:\n",
        "    title = f\"Pred: {target_image_pred_label} | Prob {target_image_pred_probs.max().cpu():.3f}\"\n",
        "\n",
        "  plt.title(title)\n",
        "  plt.axis(False)"
      ]
    },
    {
      "cell_type": "code",
      "execution_count": 18,
      "metadata": {
        "id": "fOH54jp2-4Ps",
        "colab": {
          "base_uri": "https://localhost:8080/",
          "height": 372
        },
        "outputId": "ed5ffc32-294f-4813-aada-ff5523f796b3"
      },
      "outputs": [
        {
          "output_type": "error",
          "ename": "RuntimeError",
          "evalue": "[Errno 2] No such file or directory: '/content/five.jfif'",
          "traceback": [
            "\u001b[0;31m---------------------------------------------------------------------------\u001b[0m",
            "\u001b[0;31mRuntimeError\u001b[0m                              Traceback (most recent call last)",
            "\u001b[0;32m<ipython-input-18-31daffa74682>\u001b[0m in \u001b[0;36m<cell line: 2>\u001b[0;34m()\u001b[0m\n\u001b[1;32m      1\u001b[0m \u001b[0;31m# Predict on the custom image\u001b[0m\u001b[0;34m\u001b[0m\u001b[0;34m\u001b[0m\u001b[0m\n\u001b[0;32m----> 2\u001b[0;31m pred_and_plot_image(model=MNIST_model_0,\n\u001b[0m\u001b[1;32m      3\u001b[0m                     \u001b[0mimage_path\u001b[0m\u001b[0;34m=\u001b[0m\u001b[0;34m\"/content/five.jfif\"\u001b[0m\u001b[0;34m,\u001b[0m\u001b[0;34m\u001b[0m\u001b[0;34m\u001b[0m\u001b[0m\n\u001b[1;32m      4\u001b[0m                     \u001b[0mclass_names\u001b[0m\u001b[0;34m=\u001b[0m\u001b[0mclass_names\u001b[0m\u001b[0;34m,\u001b[0m\u001b[0;34m\u001b[0m\u001b[0;34m\u001b[0m\u001b[0m\n\u001b[1;32m      5\u001b[0m                     device=device)\n",
            "\u001b[0;32m<ipython-input-17-9156520aee84>\u001b[0m in \u001b[0;36mpred_and_plot_image\u001b[0;34m(model, image_path, class_names, device)\u001b[0m\n\u001b[1;32m     10\u001b[0m       \u001b[0mtransforms\u001b[0m\u001b[0;34m.\u001b[0m\u001b[0mResize\u001b[0m\u001b[0;34m(\u001b[0m\u001b[0msize\u001b[0m\u001b[0;34m=\u001b[0m\u001b[0;34m(\u001b[0m\u001b[0;36m28\u001b[0m\u001b[0;34m,\u001b[0m \u001b[0;36m28\u001b[0m\u001b[0;34m)\u001b[0m\u001b[0;34m)\u001b[0m\u001b[0;34m,\u001b[0m\u001b[0;34m\u001b[0m\u001b[0;34m\u001b[0m\u001b[0m\n\u001b[1;32m     11\u001b[0m   ])\n\u001b[0;32m---> 12\u001b[0;31m   \u001b[0mtarget_image\u001b[0m \u001b[0;34m=\u001b[0m \u001b[0mtorchvision\u001b[0m\u001b[0;34m.\u001b[0m\u001b[0mio\u001b[0m\u001b[0;34m.\u001b[0m\u001b[0mread_image\u001b[0m\u001b[0;34m(\u001b[0m\u001b[0mstr\u001b[0m\u001b[0;34m(\u001b[0m\u001b[0mimage_path\u001b[0m\u001b[0;34m)\u001b[0m\u001b[0;34m)\u001b[0m\u001b[0;34m.\u001b[0m\u001b[0mtype\u001b[0m\u001b[0;34m(\u001b[0m\u001b[0mtorch\u001b[0m\u001b[0;34m.\u001b[0m\u001b[0mfloat32\u001b[0m\u001b[0;34m)\u001b[0m\u001b[0;34m\u001b[0m\u001b[0;34m\u001b[0m\u001b[0m\n\u001b[0m\u001b[1;32m     13\u001b[0m   \u001b[0mtarget_image\u001b[0m \u001b[0;34m/=\u001b[0m \u001b[0;36m255\u001b[0m\u001b[0;34m\u001b[0m\u001b[0;34m\u001b[0m\u001b[0m\n\u001b[1;32m     14\u001b[0m \u001b[0;34m\u001b[0m\u001b[0m\n",
            "\u001b[0;32m/usr/local/lib/python3.10/dist-packages/torchvision/io/image.py\u001b[0m in \u001b[0;36mread_image\u001b[0;34m(path, mode, apply_exif_orientation)\u001b[0m\n\u001b[1;32m    273\u001b[0m     \u001b[0;32mif\u001b[0m \u001b[0;32mnot\u001b[0m \u001b[0mtorch\u001b[0m\u001b[0;34m.\u001b[0m\u001b[0mjit\u001b[0m\u001b[0;34m.\u001b[0m\u001b[0mis_scripting\u001b[0m\u001b[0;34m(\u001b[0m\u001b[0;34m)\u001b[0m \u001b[0;32mand\u001b[0m \u001b[0;32mnot\u001b[0m \u001b[0mtorch\u001b[0m\u001b[0;34m.\u001b[0m\u001b[0mjit\u001b[0m\u001b[0;34m.\u001b[0m\u001b[0mis_tracing\u001b[0m\u001b[0;34m(\u001b[0m\u001b[0;34m)\u001b[0m\u001b[0;34m:\u001b[0m\u001b[0;34m\u001b[0m\u001b[0;34m\u001b[0m\u001b[0m\n\u001b[1;32m    274\u001b[0m         \u001b[0m_log_api_usage_once\u001b[0m\u001b[0;34m(\u001b[0m\u001b[0mread_image\u001b[0m\u001b[0;34m)\u001b[0m\u001b[0;34m\u001b[0m\u001b[0;34m\u001b[0m\u001b[0m\n\u001b[0;32m--> 275\u001b[0;31m     \u001b[0mdata\u001b[0m \u001b[0;34m=\u001b[0m \u001b[0mread_file\u001b[0m\u001b[0;34m(\u001b[0m\u001b[0mpath\u001b[0m\u001b[0;34m)\u001b[0m\u001b[0;34m\u001b[0m\u001b[0;34m\u001b[0m\u001b[0m\n\u001b[0m\u001b[1;32m    276\u001b[0m     \u001b[0;32mreturn\u001b[0m \u001b[0mdecode_image\u001b[0m\u001b[0;34m(\u001b[0m\u001b[0mdata\u001b[0m\u001b[0;34m,\u001b[0m \u001b[0mmode\u001b[0m\u001b[0;34m,\u001b[0m \u001b[0mapply_exif_orientation\u001b[0m\u001b[0;34m=\u001b[0m\u001b[0mapply_exif_orientation\u001b[0m\u001b[0;34m)\u001b[0m\u001b[0;34m\u001b[0m\u001b[0;34m\u001b[0m\u001b[0m\n\u001b[1;32m    277\u001b[0m \u001b[0;34m\u001b[0m\u001b[0m\n",
            "\u001b[0;32m/usr/local/lib/python3.10/dist-packages/torchvision/io/image.py\u001b[0m in \u001b[0;36mread_file\u001b[0;34m(path)\u001b[0m\n\u001b[1;32m     50\u001b[0m     \u001b[0;32mif\u001b[0m \u001b[0;32mnot\u001b[0m \u001b[0mtorch\u001b[0m\u001b[0;34m.\u001b[0m\u001b[0mjit\u001b[0m\u001b[0;34m.\u001b[0m\u001b[0mis_scripting\u001b[0m\u001b[0;34m(\u001b[0m\u001b[0;34m)\u001b[0m \u001b[0;32mand\u001b[0m \u001b[0;32mnot\u001b[0m \u001b[0mtorch\u001b[0m\u001b[0;34m.\u001b[0m\u001b[0mjit\u001b[0m\u001b[0;34m.\u001b[0m\u001b[0mis_tracing\u001b[0m\u001b[0;34m(\u001b[0m\u001b[0;34m)\u001b[0m\u001b[0;34m:\u001b[0m\u001b[0;34m\u001b[0m\u001b[0;34m\u001b[0m\u001b[0m\n\u001b[1;32m     51\u001b[0m         \u001b[0m_log_api_usage_once\u001b[0m\u001b[0;34m(\u001b[0m\u001b[0mread_file\u001b[0m\u001b[0;34m)\u001b[0m\u001b[0;34m\u001b[0m\u001b[0;34m\u001b[0m\u001b[0m\n\u001b[0;32m---> 52\u001b[0;31m     \u001b[0mdata\u001b[0m \u001b[0;34m=\u001b[0m \u001b[0mtorch\u001b[0m\u001b[0;34m.\u001b[0m\u001b[0mops\u001b[0m\u001b[0;34m.\u001b[0m\u001b[0mimage\u001b[0m\u001b[0;34m.\u001b[0m\u001b[0mread_file\u001b[0m\u001b[0;34m(\u001b[0m\u001b[0mstr\u001b[0m\u001b[0;34m(\u001b[0m\u001b[0mpath\u001b[0m\u001b[0;34m)\u001b[0m\u001b[0;34m)\u001b[0m\u001b[0;34m\u001b[0m\u001b[0;34m\u001b[0m\u001b[0m\n\u001b[0m\u001b[1;32m     53\u001b[0m     \u001b[0;32mreturn\u001b[0m \u001b[0mdata\u001b[0m\u001b[0;34m\u001b[0m\u001b[0;34m\u001b[0m\u001b[0m\n\u001b[1;32m     54\u001b[0m \u001b[0;34m\u001b[0m\u001b[0m\n",
            "\u001b[0;32m/usr/local/lib/python3.10/dist-packages/torch/_ops.py\u001b[0m in \u001b[0;36m__call__\u001b[0;34m(self_, *args, **kwargs)\u001b[0m\n\u001b[1;32m    852\u001b[0m         \u001b[0;31m# We save the function ptr as the `op` attribute on\u001b[0m\u001b[0;34m\u001b[0m\u001b[0;34m\u001b[0m\u001b[0m\n\u001b[1;32m    853\u001b[0m         \u001b[0;31m# OpOverloadPacket to access it here.\u001b[0m\u001b[0;34m\u001b[0m\u001b[0;34m\u001b[0m\u001b[0m\n\u001b[0;32m--> 854\u001b[0;31m         \u001b[0;32mreturn\u001b[0m \u001b[0mself_\u001b[0m\u001b[0;34m.\u001b[0m\u001b[0m_op\u001b[0m\u001b[0;34m(\u001b[0m\u001b[0;34m*\u001b[0m\u001b[0margs\u001b[0m\u001b[0;34m,\u001b[0m \u001b[0;34m**\u001b[0m\u001b[0;34m(\u001b[0m\u001b[0mkwargs\u001b[0m \u001b[0;32mor\u001b[0m \u001b[0;34m{\u001b[0m\u001b[0;34m}\u001b[0m\u001b[0;34m)\u001b[0m\u001b[0;34m)\u001b[0m\u001b[0;34m\u001b[0m\u001b[0;34m\u001b[0m\u001b[0m\n\u001b[0m\u001b[1;32m    855\u001b[0m \u001b[0;34m\u001b[0m\u001b[0m\n\u001b[1;32m    856\u001b[0m     \u001b[0;31m# TODO: use this to make a __dir__\u001b[0m\u001b[0;34m\u001b[0m\u001b[0;34m\u001b[0m\u001b[0m\n",
            "\u001b[0;31mRuntimeError\u001b[0m: [Errno 2] No such file or directory: '/content/five.jfif'"
          ]
        }
      ],
      "source": [
        "# Predict on the custom image\n",
        "pred_and_plot_image(model=MNIST_model_0,\n",
        "                    image_path=\"/content/five.jfif\",\n",
        "                    class_names=class_names,\n",
        "                    device=device)"
      ]
    },
    {
      "cell_type": "code",
      "execution_count": null,
      "metadata": {
        "id": "fJOnziQZA1KW"
      },
      "outputs": [],
      "source": []
    }
  ],
  "metadata": {
    "accelerator": "GPU",
    "colab": {
      "gpuType": "T4",
      "provenance": [],
      "include_colab_link": true
    },
    "kernelspec": {
      "display_name": "Python 3",
      "name": "python3"
    },
    "language_info": {
      "name": "python"
    },
    "widgets": {
      "application/vnd.jupyter.widget-state+json": {
        "f4de31b06ba34c0bbcbd0818777c7fcd": {
          "model_module": "@jupyter-widgets/controls",
          "model_name": "HBoxModel",
          "model_module_version": "1.5.0",
          "state": {
            "_dom_classes": [],
            "_model_module": "@jupyter-widgets/controls",
            "_model_module_version": "1.5.0",
            "_model_name": "HBoxModel",
            "_view_count": null,
            "_view_module": "@jupyter-widgets/controls",
            "_view_module_version": "1.5.0",
            "_view_name": "HBoxView",
            "box_style": "",
            "children": [
              "IPY_MODEL_6348714501b742358a0294acaadc3464",
              "IPY_MODEL_16a3df6c74494b8a84f5fec595a5da12",
              "IPY_MODEL_427771028adb4f069ecfffba5e8c8422"
            ],
            "layout": "IPY_MODEL_ad0013f8c3cc45f2bd694c921754739b"
          }
        },
        "6348714501b742358a0294acaadc3464": {
          "model_module": "@jupyter-widgets/controls",
          "model_name": "HTMLModel",
          "model_module_version": "1.5.0",
          "state": {
            "_dom_classes": [],
            "_model_module": "@jupyter-widgets/controls",
            "_model_module_version": "1.5.0",
            "_model_name": "HTMLModel",
            "_view_count": null,
            "_view_module": "@jupyter-widgets/controls",
            "_view_module_version": "1.5.0",
            "_view_name": "HTMLView",
            "description": "",
            "description_tooltip": null,
            "layout": "IPY_MODEL_d9742a75c1b7497ea1fda01dd0600f9c",
            "placeholder": "​",
            "style": "IPY_MODEL_a29d1a6f543f4538a226ff060cd8febb",
            "value": " 40%"
          }
        },
        "16a3df6c74494b8a84f5fec595a5da12": {
          "model_module": "@jupyter-widgets/controls",
          "model_name": "FloatProgressModel",
          "model_module_version": "1.5.0",
          "state": {
            "_dom_classes": [],
            "_model_module": "@jupyter-widgets/controls",
            "_model_module_version": "1.5.0",
            "_model_name": "FloatProgressModel",
            "_view_count": null,
            "_view_module": "@jupyter-widgets/controls",
            "_view_module_version": "1.5.0",
            "_view_name": "ProgressView",
            "bar_style": "",
            "description": "",
            "description_tooltip": null,
            "layout": "IPY_MODEL_573bbb5a4c63452e8b855b64c74b0594",
            "max": 10,
            "min": 0,
            "orientation": "horizontal",
            "style": "IPY_MODEL_fc8008c8de064a70b0765cfe162be64b",
            "value": 4
          }
        },
        "427771028adb4f069ecfffba5e8c8422": {
          "model_module": "@jupyter-widgets/controls",
          "model_name": "HTMLModel",
          "model_module_version": "1.5.0",
          "state": {
            "_dom_classes": [],
            "_model_module": "@jupyter-widgets/controls",
            "_model_module_version": "1.5.0",
            "_model_name": "HTMLModel",
            "_view_count": null,
            "_view_module": "@jupyter-widgets/controls",
            "_view_module_version": "1.5.0",
            "_view_name": "HTMLView",
            "description": "",
            "description_tooltip": null,
            "layout": "IPY_MODEL_136e4169323a460aa27d9d1d312c782e",
            "placeholder": "​",
            "style": "IPY_MODEL_f5b24a1e386c4a299fe078450d11aa6a",
            "value": " 4/10 [21:22&lt;32:05, 320.85s/it]"
          }
        },
        "ad0013f8c3cc45f2bd694c921754739b": {
          "model_module": "@jupyter-widgets/base",
          "model_name": "LayoutModel",
          "model_module_version": "1.2.0",
          "state": {
            "_model_module": "@jupyter-widgets/base",
            "_model_module_version": "1.2.0",
            "_model_name": "LayoutModel",
            "_view_count": null,
            "_view_module": "@jupyter-widgets/base",
            "_view_module_version": "1.2.0",
            "_view_name": "LayoutView",
            "align_content": null,
            "align_items": null,
            "align_self": null,
            "border": null,
            "bottom": null,
            "display": null,
            "flex": null,
            "flex_flow": null,
            "grid_area": null,
            "grid_auto_columns": null,
            "grid_auto_flow": null,
            "grid_auto_rows": null,
            "grid_column": null,
            "grid_gap": null,
            "grid_row": null,
            "grid_template_areas": null,
            "grid_template_columns": null,
            "grid_template_rows": null,
            "height": null,
            "justify_content": null,
            "justify_items": null,
            "left": null,
            "margin": null,
            "max_height": null,
            "max_width": null,
            "min_height": null,
            "min_width": null,
            "object_fit": null,
            "object_position": null,
            "order": null,
            "overflow": null,
            "overflow_x": null,
            "overflow_y": null,
            "padding": null,
            "right": null,
            "top": null,
            "visibility": null,
            "width": null
          }
        },
        "d9742a75c1b7497ea1fda01dd0600f9c": {
          "model_module": "@jupyter-widgets/base",
          "model_name": "LayoutModel",
          "model_module_version": "1.2.0",
          "state": {
            "_model_module": "@jupyter-widgets/base",
            "_model_module_version": "1.2.0",
            "_model_name": "LayoutModel",
            "_view_count": null,
            "_view_module": "@jupyter-widgets/base",
            "_view_module_version": "1.2.0",
            "_view_name": "LayoutView",
            "align_content": null,
            "align_items": null,
            "align_self": null,
            "border": null,
            "bottom": null,
            "display": null,
            "flex": null,
            "flex_flow": null,
            "grid_area": null,
            "grid_auto_columns": null,
            "grid_auto_flow": null,
            "grid_auto_rows": null,
            "grid_column": null,
            "grid_gap": null,
            "grid_row": null,
            "grid_template_areas": null,
            "grid_template_columns": null,
            "grid_template_rows": null,
            "height": null,
            "justify_content": null,
            "justify_items": null,
            "left": null,
            "margin": null,
            "max_height": null,
            "max_width": null,
            "min_height": null,
            "min_width": null,
            "object_fit": null,
            "object_position": null,
            "order": null,
            "overflow": null,
            "overflow_x": null,
            "overflow_y": null,
            "padding": null,
            "right": null,
            "top": null,
            "visibility": null,
            "width": null
          }
        },
        "a29d1a6f543f4538a226ff060cd8febb": {
          "model_module": "@jupyter-widgets/controls",
          "model_name": "DescriptionStyleModel",
          "model_module_version": "1.5.0",
          "state": {
            "_model_module": "@jupyter-widgets/controls",
            "_model_module_version": "1.5.0",
            "_model_name": "DescriptionStyleModel",
            "_view_count": null,
            "_view_module": "@jupyter-widgets/base",
            "_view_module_version": "1.2.0",
            "_view_name": "StyleView",
            "description_width": ""
          }
        },
        "573bbb5a4c63452e8b855b64c74b0594": {
          "model_module": "@jupyter-widgets/base",
          "model_name": "LayoutModel",
          "model_module_version": "1.2.0",
          "state": {
            "_model_module": "@jupyter-widgets/base",
            "_model_module_version": "1.2.0",
            "_model_name": "LayoutModel",
            "_view_count": null,
            "_view_module": "@jupyter-widgets/base",
            "_view_module_version": "1.2.0",
            "_view_name": "LayoutView",
            "align_content": null,
            "align_items": null,
            "align_self": null,
            "border": null,
            "bottom": null,
            "display": null,
            "flex": null,
            "flex_flow": null,
            "grid_area": null,
            "grid_auto_columns": null,
            "grid_auto_flow": null,
            "grid_auto_rows": null,
            "grid_column": null,
            "grid_gap": null,
            "grid_row": null,
            "grid_template_areas": null,
            "grid_template_columns": null,
            "grid_template_rows": null,
            "height": null,
            "justify_content": null,
            "justify_items": null,
            "left": null,
            "margin": null,
            "max_height": null,
            "max_width": null,
            "min_height": null,
            "min_width": null,
            "object_fit": null,
            "object_position": null,
            "order": null,
            "overflow": null,
            "overflow_x": null,
            "overflow_y": null,
            "padding": null,
            "right": null,
            "top": null,
            "visibility": null,
            "width": null
          }
        },
        "fc8008c8de064a70b0765cfe162be64b": {
          "model_module": "@jupyter-widgets/controls",
          "model_name": "ProgressStyleModel",
          "model_module_version": "1.5.0",
          "state": {
            "_model_module": "@jupyter-widgets/controls",
            "_model_module_version": "1.5.0",
            "_model_name": "ProgressStyleModel",
            "_view_count": null,
            "_view_module": "@jupyter-widgets/base",
            "_view_module_version": "1.2.0",
            "_view_name": "StyleView",
            "bar_color": null,
            "description_width": ""
          }
        },
        "136e4169323a460aa27d9d1d312c782e": {
          "model_module": "@jupyter-widgets/base",
          "model_name": "LayoutModel",
          "model_module_version": "1.2.0",
          "state": {
            "_model_module": "@jupyter-widgets/base",
            "_model_module_version": "1.2.0",
            "_model_name": "LayoutModel",
            "_view_count": null,
            "_view_module": "@jupyter-widgets/base",
            "_view_module_version": "1.2.0",
            "_view_name": "LayoutView",
            "align_content": null,
            "align_items": null,
            "align_self": null,
            "border": null,
            "bottom": null,
            "display": null,
            "flex": null,
            "flex_flow": null,
            "grid_area": null,
            "grid_auto_columns": null,
            "grid_auto_flow": null,
            "grid_auto_rows": null,
            "grid_column": null,
            "grid_gap": null,
            "grid_row": null,
            "grid_template_areas": null,
            "grid_template_columns": null,
            "grid_template_rows": null,
            "height": null,
            "justify_content": null,
            "justify_items": null,
            "left": null,
            "margin": null,
            "max_height": null,
            "max_width": null,
            "min_height": null,
            "min_width": null,
            "object_fit": null,
            "object_position": null,
            "order": null,
            "overflow": null,
            "overflow_x": null,
            "overflow_y": null,
            "padding": null,
            "right": null,
            "top": null,
            "visibility": null,
            "width": null
          }
        },
        "f5b24a1e386c4a299fe078450d11aa6a": {
          "model_module": "@jupyter-widgets/controls",
          "model_name": "DescriptionStyleModel",
          "model_module_version": "1.5.0",
          "state": {
            "_model_module": "@jupyter-widgets/controls",
            "_model_module_version": "1.5.0",
            "_model_name": "DescriptionStyleModel",
            "_view_count": null,
            "_view_module": "@jupyter-widgets/base",
            "_view_module_version": "1.2.0",
            "_view_name": "StyleView",
            "description_width": ""
          }
        }
      }
    }
  },
  "nbformat": 4,
  "nbformat_minor": 0
}